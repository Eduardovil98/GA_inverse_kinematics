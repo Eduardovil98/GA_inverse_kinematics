{
 "cells": [
  {
   "attachments": {},
   "cell_type": "markdown",
   "metadata": {},
   "source": [
    "**<center>Cinematica Inversa<center>**\n",
    "<br><br>"
   ]
  },
  {
   "cell_type": "code",
   "execution_count": 1,
   "metadata": {},
   "outputs": [],
   "source": [
    "# ********************************************************************\n",
    "#                 I M P O R T A R - L I B R E R I A S\n",
    "# ********************************************************************\n",
    "import numpy as np\n",
    "import pandas as pd\n",
    "import random\n",
    "import itertools\n",
    "from bitstring import BitArray\n",
    "from tqdm import tqdm\n",
    "\n",
    "import os\n",
    "import shutil\n",
    "from pathlib import Path"
   ]
  },
  {
   "cell_type": "code",
   "execution_count": 2,
   "metadata": {},
   "outputs": [],
   "source": [
    "# >> Ruta del proyecto\n",
    "module_path = os.path.abspath(os.getcwd())"
   ]
  },
  {
   "cell_type": "code",
   "execution_count": 3,
   "metadata": {},
   "outputs": [],
   "source": [
    "# >> Imprimir en consola\n",
    "#\n",
    "#\n",
    "def prRed(skk): return(\"\\033[91m {}\\033[00m\" .format(skk))\n",
    "\n",
    "def prGreen(skk): return(\"\\033[1;92m {}\\033[00m\" .format(skk))\n",
    " \n",
    "def prYellow(skk): return(\"\\033[93m {}\\033[00m\" .format(skk))\n",
    " \n",
    "def prLightPurple(skk): return(\"\\033[1;94m {}\\033[00m\" .format(skk))\n",
    " \n",
    "def prPurple(skk): return(\"\\033[1;95m {}\\033[00m\" .format(skk))\n",
    " \n",
    "def prCyan(skk): return(\"\\033[96m {}\\033[00m\" .format(skk))\n",
    " \n",
    "def prLightGray(skk): return(\"\\033[97m {}\\033[00m\" .format(skk))\n",
    " \n",
    "def prBlack(skk): return(\"\\033[1;98m {}\\033[00m\" .format(skk))"
   ]
  },
  {
   "cell_type": "code",
   "execution_count": 4,
   "metadata": {},
   "outputs": [],
   "source": [
    "# >> Creamos una clase para escritura y le lectura de archivos\n",
    "#\n",
    "# Version 2.1\n",
    "class Files():\n",
    "    def __init__(self, parent = None):\n",
    "        self.parent = parent\n",
    "    # Version 1.2\n",
    "    def is_file_in_use(self, file_path):\n",
    "        path = Path(file_path)\n",
    "        if not path.exists():\n",
    "            return False\n",
    "        try:\n",
    "            path.rename(path)\n",
    "        except PermissionError:\n",
    "            return True\n",
    "        else:\n",
    "            return False\n",
    "    # Version 1.2\n",
    "    def write_file(self, file_path, data=[], type_mode=\"w\"):\n",
    "        __run = True\n",
    "        while __run:\n",
    "            __status = False\n",
    "            if os.path.isfile(file_path):\n",
    "                __status = self.is_file_in_use(file_path=file_path)\n",
    "            if not __status:\n",
    "                try:\n",
    "                    __file_input = open(file_path, type_mode, encoding=\"utf-8\", errors=\"replace\")\n",
    "                    for __value in data:\n",
    "                        __value = str(__value).replace(\"\\n\", \"\")\n",
    "                        __file_input.write(str(__value) + \"\\n\")\n",
    "                    __file_input.close()\n",
    "                    __run = False\n",
    "                    break\n",
    "                except:\n",
    "                    print(\"Error...\")\n",
    "    # Version 1\n",
    "    def readSingleLineFile(self, __filepath):\n",
    "        __sline = \"\"\n",
    "        __file = open(__filepath, \"r\", encoding=\"utf-8\", errors=\"replace\")\n",
    "        __content = __file.readlines()\n",
    "        __file.close()\n",
    "        for __line in __content:\n",
    "            if __line.find(\"#\") != -1:\n",
    "                pass\n",
    "            else:\n",
    "                if (__line == \"\") or (__line == \"\\n\"):\n",
    "                    pass\n",
    "                else:\n",
    "                    __sline = __line.replace(\"\\n\", \"\")\n",
    "        return __sline\n",
    "    # Version 1\n",
    "    def readFile(self, filepath):\n",
    "        __content = []\n",
    "        __fullpath = os.path.abspath(str(filepath))\n",
    "        if os.path.isfile(__fullpath):\n",
    "            __ofile = open(__fullpath, \"r\", encoding=\"utf-8\", errors=\"replace\")\n",
    "            __content = __ofile.readlines()\n",
    "            __ofile.close()\n",
    "        return __content\n",
    "    # Version 1.2\n",
    "    def write_file_string(self, file_path, data_string, type_mode=\"w\"):\n",
    "        __run = True\n",
    "        while __run:\n",
    "            __status = False\n",
    "            if os.path.isfile(file_path):\n",
    "                __status = self.is_file_in_use(file_path=file_path)\n",
    "            if not __status:\n",
    "                try:\n",
    "                    __file_input = open(file_path, type_mode, encoding=\"utf-8\", errors=\"replace\")\n",
    "                    __file_input.write(data_string)\n",
    "                    __file_input.close()\n",
    "                    __run = False\n",
    "                except:\n",
    "                    pass\n",
    "            # time.sleep(3)"
   ]
  },
  {
   "cell_type": "code",
   "execution_count": 5,
   "metadata": {},
   "outputs": [],
   "source": [
    "# >> Instanciar la clase Files()\n",
    "files = Files()"
   ]
  },
  {
   "cell_type": "code",
   "execution_count": 6,
   "metadata": {},
   "outputs": [],
   "source": [
    "# >> Crear carpetas para guardar resultados\n",
    "output_path =os.path.join(module_path, \"output\")\n",
    "coodinate_population_folder = os.path.join(output_path, \"Coordinates_population\")\n",
    "fitness_folder = os.path.join(output_path, \"Fitness\")\n",
    "def restart_folders():\n",
    "    if not os.path.isdir(output_path):\n",
    "        os.mkdir(output_path\n",
    "        )\n",
    "    else:\n",
    "        for folder in os.listdir(output_path):\n",
    "            shutil.rmtree(os.path.join(output_path, folder))\n",
    "\n",
    "    if not os.path.isdir(coodinate_population_folder):\n",
    "        os.mkdir(coodinate_population_folder)\n",
    "\n",
    "    if not os.path.isdir(fitness_folder):\n",
    "        os.mkdir(fitness_folder)\n",
    "restart_folders()\n",
    "fitness_file = os.path.join(fitness_folder, \"Fistness.txt\")\n",
    "best_angles_file = os.path.join(fitness_folder, \"Angles.txt\")\n",
    "log_path = os.path.join(fitness_folder, \"log.txt\")"
   ]
  },
  {
   "attachments": {},
   "cell_type": "markdown",
   "metadata": {},
   "source": [
    "*****\n",
    "\n",
    "**<center><span style=\"color:blue\">Denavit Hartemberg</span></center></br></br>**\n",
    "**<center>Sistema de coordenadas del robot 6GDL</center>**<br><br>\n",
    "*****\n",
    "<center>\n",
    "<div>\n",
    "<img src=\"./Images/Sistema de coordenadas - Robot.png\" width=\"600\">\n",
    "</div>\n",
    "​<center>\n"
   ]
  },
  {
   "attachments": {},
   "cell_type": "markdown",
   "metadata": {},
   "source": [
    "**<span style=\"color:blue\">Nata:</span>**<br>\n",
    "- <span style=\"color:gray\">Unidades en mm</span><br>\n",
    "- **Comenzaremos el trabajo desde la descripción de Denavit-Hartenberg para el robot con 6GDL.**"
   ]
  },
  {
   "attachments": {},
   "cell_type": "markdown",
   "metadata": {},
   "source": [
    "**<center>Tabla de Denavit-Hartemberg</center>**\n",
    "\n",
    "<center>   \n",
    "\n",
    "| link | $\\bm{\\theta_{i-1}}$ | $\\bm{d_{i-1}}$ | $\\bm{\\alpha_{i-1}}$ | $\\bm{a_{i-1}}$| \n",
    "| ---: | ---: | ---: | ---: | ---: |\n",
    "|  1  |  0  | 505 | 150 | -90 |\n",
    "|  2  |  90 |   0 |-760 |  0  |\n",
    "|  3  |  0  |   0 |-200 |  90 |\n",
    "|  4  |  0  |1082 |   0 | -90 |\n",
    "|  5  |  0  |   0 |   0 |  90 |\n",
    "|  6  |  0  | 100 |   0 |  0  |\n",
    "|  7  |  0  |   0 | -89 |  0  |\n",
    "\n",
    "</center>\n",
    "<!-- </div> -->"
   ]
  },
  {
   "attachments": {},
   "cell_type": "markdown",
   "metadata": {},
   "source": [
    "****************************"
   ]
  },
  {
   "attachments": {},
   "cell_type": "markdown",
   "metadata": {},
   "source": [
    "# **<center><span style=\"color:blue\">Algoritmo Genético</span></center>**<br>"
   ]
  },
  {
   "attachments": {},
   "cell_type": "markdown",
   "metadata": {},
   "source": [
    "**<center>Función Objectivo<br><br>**\n",
    "$\\bm{z: min \\sqrt{\\sum_{i=1}^{3} \\left[P_{final_{1x3}} - P_{i_{1x3}}\\right]^2}}$<br><br>\n",
    "**Restricciones:**\n",
    "\n",
    "$\\bm{-180 \\leq \\theta_1 \\geq 180}$<br>\n",
    "$\\bm{-105 \\leq \\theta_2 \\geq 155}$<br>\n",
    "$\\bm{-86 \\leq \\theta_3 \\geq 160}$<br>\n",
    "$\\bm{-150 \\leq \\theta_3 \\geq 150}$<br>\n",
    "$\\bm{-135 \\leq \\theta_3 \\geq 90}$<br>\n",
    "$\\bm{-210 \\leq \\theta_3 \\geq 210}$\n",
    "\n",
    "\n",
    "</center>\n"
   ]
  },
  {
   "attachments": {},
   "cell_type": "markdown",
   "metadata": {},
   "source": [
    "<center><span style=\"color:black\">La función objetivo tiene una estructura particular del problema, donde el error es la distancia euclidiana entre \n",
    "dos puntos, el punto de la configuración inicial y el punto final, cuando la distancia se reduce, el error tiende a \n",
    "cero</span></center>\n"
   ]
  },
  {
   "attachments": {},
   "cell_type": "markdown",
   "metadata": {},
   "source": [
    "****\n",
    "**<center><span style=\"color:blue\">Parámetros del Algoritmo Genético</span></center>**<br>\n",
    "****"
   ]
  },
  {
   "cell_type": "code",
   "execution_count": 7,
   "metadata": {},
   "outputs": [],
   "source": [
    "#########################################################################################################################################\n",
    "#########################################################################################################################################\n",
    "################################## >> P A R A M E T R O S - D E L - A L G O R I T M O << ################################################\n",
    "#########################################################################################################################################\n",
    "#########################################################################################################################################\n",
    "# >> Posicion final del robot\n",
    "final_position = [1253.129, -1797.005, 929.652]\n",
    "# >> Numero de epocas\n",
    "epochs = 100\n",
    "# >> Tamaño de la poblacion\n",
    "population_size = 2000\n",
    "# >> Porcentaje de seleccion\n",
    "selection_percentage = 40\n",
    "# >> Cruzamiento\n",
    "cross = 3\n",
    "# >> Porcentaje de mutacion\n",
    "mutation_percenatge = 40\n",
    "# >> Restricciones de los angulos de las articulaciones\n",
    "theta_limit = {\"1\": [-180, 180], \"2\": [-105, 155], \"3\": [-86, 160], \"4\": [-150, 150], \"5\": [-135, 90], \"6\": [-210, 210]}\n",
    "# >> Error máximo permisible\n",
    "error = 1E-3\n",
    "# >> Elitistas\n",
    "elitist = 2"
   ]
  },
  {
   "attachments": {},
   "cell_type": "markdown",
   "metadata": {},
   "source": [
    "****************************"
   ]
  },
  {
   "cell_type": "code",
   "execution_count": 8,
   "metadata": {},
   "outputs": [],
   "source": [
    "# Generar angulo de forma aleatoria\n",
    "#\n",
    "gen_angle = lambda init_, end_: round(np.random.uniform(init_, end_), 6)\n",
    "ind_bin = lambda x: BitArray(float=x, length=64)"
   ]
  },
  {
   "cell_type": "code",
   "execution_count": 9,
   "metadata": {},
   "outputs": [],
   "source": [
    "# Definimos una función para construir las matrices de transformación\n",
    "# en forma simbóĺica a partir de los parámetros D-H\n",
    "\n",
    "# Version 1.0\n",
    "def MatrixfromDH(theta, d, a, alpha):\n",
    "    # theta y alpha en radianes\n",
    "    # d y a en metros\n",
    "    Rz = np.array([[np.cos(theta), -np.sin(theta), 0, 0],\n",
    "                   [np.sin(theta), np.cos(theta), 0, 0],\n",
    "                   [0, 0, 1, 0],\n",
    "                   [0, 0, 0, 1]])\n",
    "    tz = np.array([[1, 0, 0, 0],\n",
    "                   [0, 1, 0, 0],\n",
    "                   [0, 0, 1, d],\n",
    "                   [0, 0, 0, 1]])\n",
    "    ta = np.array([[1, 0, 0, a],\n",
    "                   [0, 1, 0, 0],\n",
    "                   [0, 0, 1, 0],\n",
    "                   [0, 0, 0, 1]])\n",
    "    Rx = np.array([[1, 0, 0, 0],\n",
    "                   [0, np.cos(alpha), -np.sin(alpha), 0],\n",
    "                   [0, np.sin(alpha), np.cos(alpha), 0],\n",
    "                   [0, 0, 0, 1]])\n",
    "    return Rz@tz@ta@Rx"
   ]
  },
  {
   "cell_type": "code",
   "execution_count": 10,
   "metadata": {},
   "outputs": [],
   "source": [
    "# DENAVIT-HARTEMBERG\n",
    "#\n",
    "# Version 1.0\n",
    "def DH(q1: float, q2: float, q3: float, q4: float, q5: float, q6: float):\n",
    "    # >> Matrices de tranformacion por cada eslabon\n",
    "    join1 = MatrixfromDH(q1, 505, 150, -np.pi/2)\n",
    "    join2 = MatrixfromDH(np.pi/2 + q2, 0, -760, 0)\n",
    "    join3 = MatrixfromDH(-q3, 0, -200, np.pi/2)\n",
    "    join4 = MatrixfromDH(-q4, 1082, 0, -np.pi/2)\n",
    "    join5 = MatrixfromDH(-q5, 0, 0, np.pi/2)\n",
    "    join6 = MatrixfromDH(-q6, 100, 0, 0)\n",
    "    # >> Pistola de Soldadura\n",
    "    join7 = MatrixfromDH(0, 340, -89, 0)\n",
    "    Ti = join1 @ join2 @ join3 @ join4 @ join5 @ join6 @ join7\n",
    "    return Ti\n"
   ]
  },
  {
   "cell_type": "code",
   "execution_count": 11,
   "metadata": {},
   "outputs": [],
   "source": [
    "# >> POPULATION\n",
    "# Version 1.3\n",
    "def population(size: int, theta_limit: dict, n=64):\n",
    "    # print(\"new population\")\n",
    "    files.write_file(file_path=log_path, data=[\"Population...\"], type_mode=\"a\")\n",
    "    population_ = []\n",
    "    for ind_ in range(size):\n",
    "        # >> Se generan los valores de theta (angulos de las articulaciones del Robot).\n",
    "        individual = list(map(lambda x: gen_angle(x[0], x[1]), theta_limit.values()))\n",
    "        # >> Se convierten los angulos en bytes.\n",
    "        ind_to_binary = ''.join(list(map(lambda x: ind_bin(x).bin, individual)))\n",
    "        # >> Se valida de que no se repita el individuo\n",
    "        if not ind_to_binary in population_:\n",
    "            # >> Se agrega al nuevo individuo\n",
    "            chunks = [ind_to_binary[i: i + n] for i in range(0, len(ind_to_binary), n)]\n",
    "            population_.append(chunks)\n",
    "    return population_\n",
    "    \n"
   ]
  },
  {
   "attachments": {},
   "cell_type": "markdown",
   "metadata": {},
   "source": [
    "*****\n",
    "**<center>El método para seleccionar a los mejores individuos de la poblacion actual se aplica ardenando los datos mediante el valor obtenido de la función objectivo, despues se acota la población con base al porcentaje de selcción asignado.</center>**<br><br>\n",
    "*****\n",
    "<center>\n",
    "<div>\n",
    "<img src=\"./Images/Seleccion.png\" width=\"600\">\n",
    "</div>\n",
    "​<center>"
   ]
  },
  {
   "cell_type": "code",
   "execution_count": 12,
   "metadata": {},
   "outputs": [],
   "source": [
    "# >> SELECTION\n",
    "#\n",
    "# Version 1.6\n",
    "def Selection_(current_epoch: int, population: list, percentage: int, final_position: list, qts = [\"q1\", \"q2\", \"q3\", \"q4\", \"q5\", \"q6\"], n = 64):\n",
    "    files.write_file(file_path=log_path, data=[\"Selection...\"], type_mode=\"a\")\n",
    "    files.write_file(file_path=log_path, data=[\"********************************************\", \"********************************************\", \"********************************************\"], type_mode=\"a\")\n",
    "    # >> Varaible para guardar a los mejores individuos\n",
    "    fitness = {}\n",
    "    for index, ind_ in enumerate(population):\n",
    "        # >> Transforman los bytes a un valor de angulo\n",
    "        _angles_ = list(map(lambda x: np.round(BitArray(bin=x).float * (np.pi/180), 6), ind_))\n",
    "        # >> Evaluar los valores del individuo        \n",
    "        tab_dh = DH(**dict(zip(qts, _angles_)))\n",
    "        # >> Obtener la funcion objectivo\n",
    "        coordinates = np.round(np.array(tab_dh[:3,3]).astype(np.float64).flatten(), 6)\n",
    "        \n",
    "        # >> Distancia ecuclideana entre el individuo y la posicion final\n",
    "        dist = np.round(np.linalg.norm(final_position - coordinates), 6)\n",
    "        # Insertar DE en la variables\n",
    "        fitness[dist] = {\"dist\": dist, \"angles\": _angles_, \"individual\": ind_, \"coordinates\": coordinates}\n",
    "        \n",
    "        files.write_file(file_path=log_path, data=[str(dist) + \" | \" + str(ind_) +  \" | \" + str(_angles_) + \" | \" + str(coordinates)], type_mode=\"a\")\n",
    "    # Se ordenan los valores del mejor al peor indiviuo\n",
    "    fitness = dict(sorted(fitness.items(), key=lambda item: item[0]))\n",
    "    # Se selecciona el porcentaje de los mejores individuos de la poblacion.\n",
    "    fitness_selected = dict(itertools.islice(fitness.items(), int((len(fitness)*percentage)/100)))\n",
    "    return fitness_selected"
   ]
  },
  {
   "attachments": {},
   "cell_type": "markdown",
   "metadata": {},
   "source": [
    "*****\n",
    "**<center>Seleccionar individuos mediante el método de la ruleta</center>**<br><br>\n",
    "*****\n",
    "<center>\n",
    "\n",
    "<span style=\"color:black\">Los individuos son seleccionados proporcionalmente a la función objetivo y cada individuo tiene una \n",
    "probabilidad de ser seleccionado como el individuo a reproducirse, esto se muestra en la siguiente expresión:</span>\n",
    "\n",
    "\n",
    "<div>\n",
    "<img src=\"./Images/Ruleta.png\" width=\"600\">\n",
    "</div>\n",
    "​<center>\n",
    "Eecuación para seleccionar al individuo mediante el método de la ruleta.<br>\n",
    "\n",
    "$\\bm{L_p = \\sum_{i = 0}^{n}\\frac{W - \\sum_{j = 1}^{m}p_j}{n - i} * 2}$\n",
    "\n",
    "Donde:<br>\n",
    "\n",
    "$W$ = 100 (porcentaje)<br>\n",
    "$p$ = Las propabilidades acumuladas por los individuos<br>\n",
    "$n$ = Tamaño de la población\n",
    "\n",
    "\n",
    "*****\n",
    "**<center>Método para aplicar crossover</center>**<br><br>\n",
    "*****\n",
    "<span style=\"color:black\">El operador de cruzamiento se aplica a partir de dos individuos seleccionados con el método de la ruleta, algunas \n",
    "de las cadenas se cruzan con otras de forma aleatoria, de tal manera que la cadena resultante ya no sería representante de la cadena \n",
    "original, de manera gráfica se puede ver de la siguiente manera.</span>\n",
    "\n",
    "<center>\n",
    "<div>\n",
    "<img src=\"./Images/Crossover.png\" width=\"600\">\n",
    "</div>\n",
    "​<center>\n"
   ]
  },
  {
   "cell_type": "code",
   "execution_count": 13,
   "metadata": {},
   "outputs": [],
   "source": [
    "# >> CROSSOVER\n",
    "# >> Realizamos el cruzamiento mediante el metodo de la ruleta\n",
    "# Version 3.2\n",
    "def crossover_(current_epoch: int, selection_: dict, population_size: int, cross: int, theta_limit: dict, elitist: int, n = 64):\n",
    "    files.write_file(file_path=log_path, data=[\"Crossover...\"], type_mode=\"a\")\n",
    "    _new_population = []\n",
    "    _coodinates = []\n",
    "    current_percentage = 100\n",
    "    # >> Seleccionamos a los elitistas\n",
    "    for index, (father, items_) in enumerate(selection_.items()):\n",
    "        if index <= elitist:\n",
    "            if not items_[\"individual\"] in _new_population:\n",
    "                _new_population.append(items_[\"individual\"].copy())\n",
    "                files.write_file(file_path=log_path, data=[_new_population[index]], type_mode=\"a\")\n",
    "            continue\n",
    "        break\n",
    "    # >> Generamos la nueva poblacion\n",
    "    roulette = []\n",
    "    a = 2\n",
    "    for num, (x, y) in enumerate(selection_.items()):\n",
    "        percent = int((current_percentage / ((len(selection_) - num) + 1)) * a)\n",
    "        current_percentage -= percent\n",
    "        roulette.extend([x]*percent)\n",
    "    roulette = np.array(roulette)\n",
    "    # >> Cruzamiento\n",
    "    run_ = True\n",
    "    c = 0\n",
    "    while run_:\n",
    "        current_selection = np.random.choice(roulette)\n",
    "        first_ind, second_ind = selection_[current_selection]['individual'], selection_[np.random.choice(roulette[roulette!=current_selection])]['individual']\n",
    "        indices = random.sample(range(len(first_ind)), cross)\n",
    "        for ind in indices:\n",
    "            first_ind[ind] = second_ind[ind]\n",
    "        if not first_ind in _new_population:\n",
    "            _new_population.append(first_ind)\n",
    "            c = 0\n",
    "        else:\n",
    "            c += 1\n",
    "        if c == 100:\n",
    "            # >> No se logros realizar mas cruzamiento entre los individuos\n",
    "            run_ = False\n",
    "    # En caso de que  el tamaño de la nueva poblacion no este completa\n",
    "    # aplicamos el siguiente método que consiste en recorrer individuo por individuo y\n",
    "    # aplicar cruzamiento\n",
    "    if len(_new_population) < population_size:\n",
    "        for index, (father, items_) in enumerate(selection_.items()):\n",
    "            _coodinates.append(items_['coordinates'].tolist())\n",
    "            for child in selection_.keys():\n",
    "                if father != child:\n",
    "                    first_ind, second_ind = selection_[father], selection_[child]\n",
    "                    f_individual, c_individual = first_ind[\"individual\"].copy(), second_ind[\"individual\"].copy()\n",
    "                    if cross == 3:\n",
    "                        indice = random.sample(range(4), 1)[0]\n",
    "                        for i in range(indice, indice + 3):\n",
    "                            f_individual[i] = c_individual[i]\n",
    "                        if not f_individual in _new_population:\n",
    "                            _new_population.append(f_individual)\n",
    "                    else:\n",
    "                        new_individual = first_ind[\"individual\"].copy()[:cross]\n",
    "                        new_individual.extend(second_ind[\"individual\"].copy()[cross:])\n",
    "                        if not new_individual in _new_population:\n",
    "                            _new_population.append(new_individual)\n",
    "                    if len(_new_population) >= population_size:\n",
    "                        break\n",
    "            if len(_new_population) >= population_size:\n",
    "                    break\n",
    "    # Por ultimo, verficamos si el tamaño de la poblacion sigue siendo menor, se agrega\n",
    "    # nuevos inidividuos de fomra aleatoria.\n",
    "    if len(_new_population) < population_size:\n",
    "        _population_ = population(size=int(population_size - len(_new_population)), theta_limit=theta_limit)\n",
    "        for index, individual in enumerate(_population_):\n",
    "            _new_population.append(individual)\n",
    "    # files.write_file(file_path=log_path, data=[\"Selected...\"], type_mode=\"a\")  \n",
    "    # files.write_file(file_path=log_path, data=_new_population, type_mode=\"a\")\n",
    "    files.write_file(file_path=log_path, data=[\"********************************************\"], type_mode=\"a\")\n",
    "    for i in range(elitist):\n",
    "        files.write_file(file_path=log_path, data=[_new_population[i]], type_mode=\"a\")\n",
    "    \n",
    "    return _new_population"
   ]
  },
  {
   "attachments": {},
   "cell_type": "markdown",
   "metadata": {},
   "source": [
    "\n",
    "*****\n",
    "**<center>Método para aplicar Mutación</center>**<br><br>\n",
    "*****\n",
    "<center>\n",
    "\n",
    "<span style=\"color:black\">\n",
    "\n",
    "La mutación, es un operador que se aplica con probabilidad $p_m$, es decir todos tiene la misma probabilidad de ser elegido a excepción de los elitistas, y que tiene el efecto de invertir un bit utilizando \n",
    "una probabilidad de mutación del bit $l_{-1}$, siendo $l$ la longitud de la cadena del cromosoma, en la siguiente figura se muestra un ejemplo sobre mutación.</span>\n",
    "\n",
    " </center><br>\n",
    "\n",
    "<center>\n",
    "<div>\n",
    "<img src=\"./Images/Mutacion.png\" width=\"600\">\n",
    "</div>\n",
    "​<center>"
   ]
  },
  {
   "cell_type": "code",
   "execution_count": 14,
   "metadata": {},
   "outputs": [],
   "source": [
    "# >> MUTATIONS\n",
    "#\n",
    "# Version 2.5\n",
    "def mutations_(population: list, percentage: int, theta_limit: dict, elitist: int):\n",
    "    files.write_file(file_path=log_path, data=[\"Mutation...\"], type_mode=\"a\")\n",
    "    # >> Obtenemos el tamaño de los individuos que seran mutados con base al parametro de porcentaje.\n",
    "    size_ = int((percentage*len(population))/100)\n",
    "    # >> Ignoramos a los elitistas\n",
    "    selected = random.sample(range(elitist, len(population)), size_)\n",
    "    ##\n",
    "    # >> Aplicamos mutacion\n",
    "    for index_ind in selected:\n",
    "        # Seleecionamos al individuo\n",
    "        individual = population[index_ind]\n",
    "        # Elejimos 3 genes de forma aleatoria\n",
    "        random_index = random.sample(range(len(individual)), 3)\n",
    "        ####\n",
    "        # >> Invertimos el valor del gen.\n",
    "        for index in random_index:\n",
    "            gen = individual[index]\n",
    "            gen = list(gen)\n",
    "            random_gen = random.sample(range(len(gen)), 3)\n",
    "            val = True\n",
    "            c = 0\n",
    "            while val:\n",
    "                for i in random_gen:\n",
    "                    get_gen = gen[i]\n",
    "                    if get_gen == \"0\":\n",
    "                        gen[i] = \"1\"\n",
    "                    else:\n",
    "                        gen[i] = \"0\"\n",
    "                string_crom = ''.join(gen)\n",
    "                mutated_chromosome = BitArray(bin=string_crom).float\n",
    "                min_, max_ = theta_limit[str(index + 1)]\n",
    "                # Validar si esta dentro de la restricciones\n",
    "                #\n",
    "                #\n",
    "                if mutated_chromosome > min_ and mutated_chromosome < max_:\n",
    "                    individual[index] = string_crom\n",
    "                    val = False\n",
    "                else:\n",
    "                    c += 1\n",
    "                if c == 50:\n",
    "                    val = False\n",
    "        if not individual in population:\n",
    "            population[index_ind] = individual\n",
    "    for i in range(elitist):\n",
    "        files.write_file(file_path=log_path, data=[population[i]], type_mode=\"a\")\n",
    "    return population \n"
   ]
  },
  {
   "attachments": {},
   "cell_type": "markdown",
   "metadata": {},
   "source": [
    "****\n",
    "**<center><span style=\"color:blue\">Ejecución del Algoritmo</span></center>**\n",
    "****"
   ]
  },
  {
   "cell_type": "code",
   "execution_count": 15,
   "metadata": {},
   "outputs": [],
   "source": [
    "# >> Limpiamos carpetas y archivos en caso de conter informacion.\n",
    "restart_folders()\n",
    "files.write_file(file_path=fitness_file, data=[])\n",
    "files.write_file(file_path=best_angles_file, data=[])\n",
    "files.write_file(file_path=log_path, data=[])\n",
    "files.write_file(file_path=log_path, data=[\"Start Algorithm:\"], type_mode=\"w\")"
   ]
  },
  {
   "cell_type": "code",
   "execution_count": 16,
   "metadata": {},
   "outputs": [
    {
     "name": "stderr",
     "output_type": "stream",
     "text": [
      "  1%|\u001b[32m          \u001b[0m| 1/100 [00:05<09:03,  5.49s/it]"
     ]
    },
    {
     "name": "stdout",
     "output_type": "stream",
     "text": [
      "\u001b[1;94m Epoch:\u001b[00m \u001b[1;98m 0\u001b[00m | \u001b[1;94m Error:\u001b[00m \u001b[1;98m 257.084479\u001b[00m | \u001b[1;94m Size population:\u001b[00m \u001b[1;98m 2000\u001b[00m\n"
     ]
    },
    {
     "name": "stderr",
     "output_type": "stream",
     "text": [
      " 11%|\u001b[32m█         \u001b[0m| 11/100 [00:57<07:45,  5.23s/it]"
     ]
    },
    {
     "name": "stdout",
     "output_type": "stream",
     "text": [
      "\u001b[1;94m Epoch:\u001b[00m \u001b[1;98m 10\u001b[00m | \u001b[1;94m Error:\u001b[00m \u001b[1;98m 0.583012\u001b[00m | \u001b[1;94m Size population:\u001b[00m \u001b[1;98m 2000\u001b[00m\n"
     ]
    },
    {
     "name": "stderr",
     "output_type": "stream",
     "text": [
      " 21%|\u001b[32m██        \u001b[0m| 21/100 [02:01<08:26,  6.41s/it]"
     ]
    },
    {
     "name": "stdout",
     "output_type": "stream",
     "text": [
      "\u001b[1;94m Epoch:\u001b[00m \u001b[1;98m 20\u001b[00m | \u001b[1;94m Error:\u001b[00m \u001b[1;98m 0.047196\u001b[00m | \u001b[1;94m Size population:\u001b[00m \u001b[1;98m 2000\u001b[00m\n"
     ]
    },
    {
     "name": "stderr",
     "output_type": "stream",
     "text": [
      " 31%|\u001b[32m███       \u001b[0m| 31/100 [03:02<07:31,  6.54s/it]"
     ]
    },
    {
     "name": "stdout",
     "output_type": "stream",
     "text": [
      "\u001b[1;94m Epoch:\u001b[00m \u001b[1;98m 30\u001b[00m | \u001b[1;94m Error:\u001b[00m \u001b[1;98m 0.003293\u001b[00m | \u001b[1;94m Size population:\u001b[00m \u001b[1;98m 2000\u001b[00m\n"
     ]
    },
    {
     "name": "stderr",
     "output_type": "stream",
     "text": [
      " 41%|\u001b[32m████      \u001b[0m| 41/100 [04:02<05:59,  6.10s/it]"
     ]
    },
    {
     "name": "stdout",
     "output_type": "stream",
     "text": [
      "\u001b[1;94m Epoch:\u001b[00m \u001b[1;98m 40\u001b[00m | \u001b[1;94m Error:\u001b[00m \u001b[1;98m 0.00142\u001b[00m | \u001b[1;94m Size population:\u001b[00m \u001b[1;98m 2000\u001b[00m\n"
     ]
    },
    {
     "name": "stderr",
     "output_type": "stream",
     "text": [
      " 51%|\u001b[32m█████     \u001b[0m| 51/100 [04:59<04:28,  5.48s/it]"
     ]
    },
    {
     "name": "stdout",
     "output_type": "stream",
     "text": [
      "\u001b[1;94m Epoch:\u001b[00m \u001b[1;98m 50\u001b[00m | \u001b[1;94m Error:\u001b[00m \u001b[1;98m 0.00142\u001b[00m | \u001b[1;94m Size population:\u001b[00m \u001b[1;98m 2000\u001b[00m\n"
     ]
    },
    {
     "name": "stderr",
     "output_type": "stream",
     "text": [
      " 61%|\u001b[32m██████    \u001b[0m| 61/100 [05:52<03:25,  5.26s/it]"
     ]
    },
    {
     "name": "stdout",
     "output_type": "stream",
     "text": [
      "\u001b[1;94m Epoch:\u001b[00m \u001b[1;98m 60\u001b[00m | \u001b[1;94m Error:\u001b[00m \u001b[1;98m 0.00142\u001b[00m | \u001b[1;94m Size population:\u001b[00m \u001b[1;98m 2000\u001b[00m\n"
     ]
    },
    {
     "name": "stderr",
     "output_type": "stream",
     "text": [
      " 71%|\u001b[32m███████   \u001b[0m| 71/100 [06:45<02:36,  5.39s/it]"
     ]
    },
    {
     "name": "stdout",
     "output_type": "stream",
     "text": [
      "\u001b[1;94m Epoch:\u001b[00m \u001b[1;98m 70\u001b[00m | \u001b[1;94m Error:\u001b[00m \u001b[1;98m 0.00142\u001b[00m | \u001b[1;94m Size population:\u001b[00m \u001b[1;98m 2000\u001b[00m\n"
     ]
    },
    {
     "name": "stderr",
     "output_type": "stream",
     "text": [
      " 81%|\u001b[32m████████  \u001b[0m| 81/100 [07:40<01:38,  5.20s/it]"
     ]
    },
    {
     "name": "stdout",
     "output_type": "stream",
     "text": [
      "\u001b[1;94m Epoch:\u001b[00m \u001b[1;98m 80\u001b[00m | \u001b[1;94m Error:\u001b[00m \u001b[1;98m 0.00142\u001b[00m | \u001b[1;94m Size population:\u001b[00m \u001b[1;98m 2000\u001b[00m\n"
     ]
    },
    {
     "name": "stderr",
     "output_type": "stream",
     "text": [
      " 91%|\u001b[32m█████████ \u001b[0m| 91/100 [08:38<00:52,  5.79s/it]"
     ]
    },
    {
     "name": "stdout",
     "output_type": "stream",
     "text": [
      "\u001b[1;94m Epoch:\u001b[00m \u001b[1;98m 90\u001b[00m | \u001b[1;94m Error:\u001b[00m \u001b[1;98m 0.00142\u001b[00m | \u001b[1;94m Size population:\u001b[00m \u001b[1;98m 2000\u001b[00m\n"
     ]
    },
    {
     "name": "stderr",
     "output_type": "stream",
     "text": [
      " 99%|\u001b[32m█████████▉\u001b[0m| 99/100 [09:39<00:05,  5.86s/it]"
     ]
    },
    {
     "name": "stdout",
     "output_type": "stream",
     "text": [
      "[-1.093046, 1.566906, 1.493279, 0.740763, 1.041062, -0.0]\n"
     ]
    },
    {
     "name": "stderr",
     "output_type": "stream",
     "text": [
      "\n"
     ]
    }
   ],
   "source": [
    "# >> Generar poblacion\n",
    "_population_ = population(size=population_size, theta_limit=theta_limit)\n",
    "best_angles = []\n",
    "fitness = []\n",
    "c = 0\n",
    "for epoch in tqdm(range(epochs), colour=\"GREEN\"):\n",
    "    # >> Realizamos la seleccion del 40% de la poblacion\n",
    "    _selection_ = Selection_(current_epoch=epoch + 1, population=_population_, percentage=selection_percentage, final_position=final_position)\n",
    "    if not _selection_:\n",
    "        break\n",
    "    epcs = []\n",
    "    for i in _selection_.values():\n",
    "        epcs.append(i['coordinates'].tolist())\n",
    "    files.write_file(file_path=os.path.join(coodinate_population_folder, f\"Epoch{epoch + 1}.txt\"), data=epcs)\n",
    "    # >> Seleccionamos al Elistista\n",
    "    select_min = min(_selection_.items(), key=lambda x: x[0])\n",
    "    ED_ = select_min[1]['dist']\n",
    "\n",
    "    ANGLES_ = select_min[1]['angles']\n",
    "    files.write_file(file_path=log_path, data=[select_min[1][\"individual\"]], type_mode=\"a\")\n",
    "    fitness.append(ED_)\n",
    "    # >> Escribimos los resultado obtenidos en la epoca actua;\n",
    "    files.write_file(file_path=fitness_file, data=[str(ED_)], type_mode=\"a\")\n",
    "    angles = np.round(np.array(ANGLES_) * (180 / np.pi), 6)\n",
    "    angles = angles.tolist()\n",
    "    files.write_file(file_path=best_angles_file, data=[str(angles)], type_mode=\"a\")\n",
    "    if (ED_ <= error) or (epoch == epochs - 1):\n",
    "        best_angles.extend(ANGLES_)\n",
    "        break\n",
    "    # >> Crossover\n",
    "    parameters = {\"elitist\": elitist, \"selection_\": _selection_.copy(), \"population_size\": population_size, \"cross\": cross, \"current_epoch\": epoch + 1, \"theta_limit\": theta_limit}\n",
    "    _cross_population = crossover_(**parameters)\n",
    "    if c >= 3:\n",
    "        # print(\"Error:\", ED_, epoch, len(_cross_population))\n",
    "        c = 0\n",
    "    if not _cross_population:\n",
    "        break\n",
    "    # >> Mutation\n",
    "    parameters = {\"elitist\": elitist, \"population\": _cross_population.copy(), \"percentage\": mutation_percenatge, \"theta_limit\": theta_limit}\n",
    "    _population_ = mutations_(**parameters)\n",
    "\n",
    "  \n",
    "    if epoch % 10 == 0:\n",
    "        print(prLightPurple(\"Epoch:\"), prBlack(str(epoch)), \"|\", prLightPurple(\"Error:\"), prBlack(str(np.round(ED_, 6))), \"|\", prLightPurple(\"Size population:\"), prBlack(str(len(_cross_population))))\n",
    "    if epoch >= epochs - 1:\n",
    "        print(prGreen(\"Completed:\"), prLightPurple(\"Epoch:\"), prBlack(str(epoch)), \"|\", prLightPurple(\"Error:\"), prBlack(str(np.round(ED_, 3))), \"|\", prLightPurple(\"Size population:\"), prBlack(str(len(_cross_population))))\n",
    "print(best_angles)"
   ]
  },
  {
   "attachments": {},
   "cell_type": "markdown",
   "metadata": {},
   "source": [
    "****\n",
    "**<center><span style=\"color:blue\">Resultados</span></center>**\n",
    "****"
   ]
  },
  {
   "attachments": {},
   "cell_type": "markdown",
   "metadata": {},
   "source": [
    "\n",
    "<center>\n",
    "\n",
    "<span style=\"color:black\">\n",
    "\n",
    "Los resultados obtenidos se muestran en la siguiente figura, observándose a los invidiuos de la población dirigiendose \n",
    "hacia el punto objetivo reduciéndose la distancia Euclidiana en función de error y el máximo fitness alcanzado a través de las generaciones/épocas. \n",
    "La tabla muestra el resultado del algoritmo genético en su convergencia.</span>\n",
    "\n",
    " </center><br>\n",
    "\n",
    "<center>\n",
    "\n"
   ]
  },
  {
   "attachments": {},
   "cell_type": "markdown",
   "metadata": {},
   "source": [
    "**NOTA: Para evitar la acumulación de demasiada información sobre este notebook, las configuraciones (soluciones) y la distancia euclidiana (evaluación de la función objetivo), se guardan en archivos .txt en la carpeta Output incluida en este directorio.**\n",
    "\n",
    "**Los ángulos se encuentran en Output->Fitness->Angles.txt**\n",
    "\n",
    "**Por su parte, la distancia euclidiana se guarda en Output->Fitness->Fitness.txt**\n",
    "\n",
    "**Cabe señalar que en estos archivos de texto están escritos los resultados para cada época, por lo que los resultados finales son los de la última línea.**"
   ]
  },
  {
   "attachments": {},
   "cell_type": "markdown",
   "metadata": {},
   "source": [
    "<center>\n",
    "<p float=\"left\">\n",
    "  <img src=\"./Images/Epoca1.png\" width=\"400\" />\n",
    "  <img src=\"./Images/Epoca5.png\" width=\"400\" /> \n",
    "  <img src=\"./Images/Epoca36.png\" width=\"400\" />\n",
    "</p>\n",
    "</center>"
   ]
  },
  {
   "attachments": {},
   "cell_type": "markdown",
   "metadata": {},
   "source": [
    "**<center>Resultados del GA en la generación de trayectoria.</center>**\n",
    "\n",
    "<center>\n",
    "\n",
    "$\\bm{fitness = \\frac{1}{e^{error_{i}}}}$ <br>\n",
    "\n",
    "| Generación | Error | Fitness | Tiempo |\n",
    "| --- | --- | --- | --- |\n",
    "|  100 |  0.00142  | 0.9985 | 9min, 39seg |\n",
    "\n",
    "</center>\n",
    "<!-- </div> -->"
   ]
  },
  {
   "cell_type": "code",
   "execution_count": 17,
   "metadata": {},
   "outputs": [],
   "source": [
    "import matplotlib.pyplot as plt\n",
    "plt.style.use(\"ggplot\") "
   ]
  },
  {
   "cell_type": "code",
   "execution_count": 18,
   "metadata": {},
   "outputs": [],
   "source": [
    "values_error = files.readFile(filepath=\"./Output/Fitness/Fistness.txt\")\n",
    "values_error = np.array(list(map(lambda val: float(val.replace(\"\\n\", \"\")), values_error)))\n"
   ]
  },
  {
   "cell_type": "code",
   "execution_count": 19,
   "metadata": {},
   "outputs": [
    {
     "data": {
      "image/png": "[encoded data removed]",
      "text/plain": [
       "<Figure size 640x480 with 1 Axes>"
      ]
     },
     "metadata": {},
     "output_type": "display_data"
    }
   ],
   "source": [
    "\n",
    "plt.plot(values_error[:100], label=\"Error\")\n",
    "plt.xlabel(\"Épocas\") \n",
    "plt.ylabel(\"Error(mm)\") \n",
    "plt.legend()\n",
    "plt.show()"
   ]
  },
  {
   "attachments": {},
   "cell_type": "markdown",
   "metadata": {},
   "source": [
    "\n",
    "<center>\n",
    "\n",
    "<span style=\"color:black\">\n",
    "\n",
    "Valores de los angulos de las articulaciones a través de las épocas para alcanzar la posicion deseada.\n",
    "\n",
    "</span>\n",
    "\n",
    " </center><br>\n",
    "\n",
    "<center>\n",
    "\n",
    "\n"
   ]
  },
  {
   "cell_type": "code",
   "execution_count": 20,
   "metadata": {},
   "outputs": [],
   "source": [
    "best_angles_ = files.readFile(filepath=\"./Output/Fitness/Angles.txt\")\n",
    "best_angles_ = np.array(list(map(lambda val: val.replace(\"\\n\", \"\"), best_angles_)))[:100]\n",
    "values_angles = {}\n",
    "for values_ in best_angles_:\n",
    "    values_ = ''.join(values_).replace(\"[\", \"\").replace(\"]\", \"\").split(\",\")\n",
    "    for index, angle in enumerate(values_):\n",
    "        _key = f\"theta_{index}\"\n",
    "        if not _key in values_angles:\n",
    "            values_angles[_key] = [np.round(float(angle), 2)]\n",
    "        else:\n",
    "            values_angles[_key].append(np.round(float(angle), 2))\n"
   ]
  },
  {
   "cell_type": "code",
   "execution_count": 21,
   "metadata": {},
   "outputs": [
    {
     "data": {
      "image/png": "[encoded data removed]",
      "text/plain": [
       "<Figure size 640x480 with 1 Axes>"
      ]
     },
     "metadata": {},
     "output_type": "display_data"
    }
   ],
   "source": [
    "for key_, angles in values_angles.items():\n",
    "    plt.plot(angles, label=key_, linestyle=\"-.\", linewidth=1.5)\n",
    "plt.xlabel(\"Épocas\") \n",
    "plt.ylabel(r\"$\\theta^{\\circ}$\") \n",
    "plt.legend()\n",
    "plt.legend(loc='upper center', bbox_to_anchor=(0.5, -0.05),\n",
    "          fancybox=True, shadow=True, ncol=5)\n",
    "plt.title(\"Trayectoria del manipulador de 6GLD\")\n",
    "plt.show()"
   ]
  },
  {
   "attachments": {},
   "cell_type": "markdown",
   "metadata": {},
   "source": [
    "Observamos que la articulación que mayor cambio de ángulo tuvo fue la 5 y luego logró estabilizarse conforme el paso de las épocas."
   ]
  }
 ],
 "metadata": {
  "kernelspec": {
   "display_name": "Python 3",
   "language": "python",
   "name": "python3"
  },
  "language_info": {
   "codemirror_mode": {
    "name": "ipython",
    "version": 3
   },
   "file_extension": ".py",
   "mimetype": "text/x-python",
   "name": "python",
   "nbconvert_exporter": "python",
   "pygments_lexer": "ipython3",
   "version": "3.8.7"
  },
  "orig_nbformat": 4
 },
 "nbformat": 4,
 "nbformat_minor": 2
}
